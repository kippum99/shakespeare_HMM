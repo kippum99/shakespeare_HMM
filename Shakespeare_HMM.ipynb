{
 "cells": [
  {
   "cell_type": "code",
   "execution_count": 2,
   "metadata": {},
   "outputs": [],
   "source": [
    "import random\n",
    "import re\n",
    "import os\n",
    "from HMM import unsupervised_HMM\n",
    "from punctuation_dict import get_punctuation_dict\n",
    "from syllable_dict import get_syllable_dict"
   ]
  },
  {
   "cell_type": "code",
   "execution_count": 3,
   "metadata": {},
   "outputs": [],
   "source": [
    "text = open(os.path.join(os.getcwd(), 'data/shakespeare.txt')).read()"
   ]
  },
  {
   "cell_type": "code",
   "execution_count": 4,
   "metadata": {},
   "outputs": [],
   "source": [
    "def parse_observations(text):\n",
    "    # Convert text to dataset.\n",
    "    lines = [line.split() for line in text.split('\\n') if line.split()]\n",
    "\n",
    "    # Store a list of words to keep capitalized\n",
    "    cap_words = [\"i'll\", 'i', 'o']\n",
    "    punc_dict = get_punctuation_dict()\n",
    "    \n",
    "    obs_counter = 0\n",
    "    obs = []\n",
    "    obs_map = {}\n",
    "\n",
    "    # Iterate through all the lines of poems\n",
    "    for line in lines:\n",
    "        # Skip line with poem id (not an actual line of poem)\n",
    "        if len(line) == 1:\n",
    "            continue\n",
    "\n",
    "        obs_elem = []\n",
    "        \n",
    "        for word in line:\n",
    "            # Convert to lowercase and remove punctuations not part of a word\n",
    "            word = punc_dict[re.sub(r'[^\\w]', '', word.lower())]\n",
    "            \n",
    "            # Keep certain words capitalized\n",
    "            if word in cap_words:\n",
    "                word = word.capitalize()\n",
    "            \n",
    "            if word not in obs_map:\n",
    "                # Add unique words to the observations map.\n",
    "                obs_map[word] = obs_counter\n",
    "                obs_counter += 1\n",
    "            \n",
    "            # Add the encoded word.\n",
    "            obs_elem.append(obs_map[word])\n",
    "        \n",
    "        # Add the encoded sequence.\n",
    "        obs.append(obs_elem)\n",
    "\n",
    "    return obs, obs_map"
   ]
  },
  {
   "cell_type": "code",
   "execution_count": 5,
   "metadata": {},
   "outputs": [],
   "source": [
    "obs, obs_map = parse_observations(text)\n",
    "syl_dict = get_syllable_dict()"
   ]
  },
  {
   "cell_type": "code",
   "execution_count": 18,
   "metadata": {},
   "outputs": [
    {
     "name": "stdout",
     "output_type": "stream",
     "text": [
      "{'from': 0, 'fairest': 1, 'creatures': 2, 'we': 3, 'desire': 4, 'increase': 5, 'that': 6, 'thereby': 7, \"beauty's\": 8, 'rose': 9, 'might': 10, 'never': 11, 'die': 12, 'but': 13, 'as': 14, 'the': 15, 'riper': 16, 'should': 17, 'by': 18, 'time': 19, 'decease': 20, 'his': 21, 'tender': 22, 'heir': 23, 'bear': 24, 'memory': 25, 'thou': 26, 'contracted': 27, 'to': 28, 'thine': 29, 'own': 30, 'bright': 31, 'eyes': 32, \"feed'st\": 33, 'thy': 34, \"light's\": 35, 'flame': 36, 'with': 37, 'self-substantial': 38, 'fuel': 39, 'making': 40, 'a': 41, 'famine': 42, 'where': 43, 'abundance': 44, 'lies': 45, 'self': 46, 'foe': 47, 'sweet': 48, 'too': 49, 'cruel': 50, 'art': 51, 'now': 52, \"world's\": 53, 'fresh': 54, 'ornament': 55, 'and': 56, 'only': 57, 'herald': 58, 'gaudy': 59, 'spring': 60, 'within': 61, 'bud': 62, 'buriest': 63, 'content': 64, 'churl': 65, \"mak'st\": 66, 'waste': 67, 'in': 68, 'niggarding': 69, 'pity': 70, 'world': 71, 'or': 72, 'else': 73, 'this': 74, 'glutton': 75, 'be': 76, 'eat': 77, 'due': 78, 'grave': 79, 'thee': 80, 'when': 81, 'forty': 82, 'winters': 83, 'shall': 84, 'besiege': 85, 'brow': 86, 'dig': 87, 'deep': 88, 'trenches': 89, 'field': 90, \"youth's\": 91, 'proud': 92, 'livery': 93, 'so': 94, 'gazed': 95, 'on': 96, 'will': 97, 'tattered': 98, 'weed': 99, 'of': 100, 'small': 101, 'worth': 102, 'held': 103, 'then': 104, 'being': 105, 'asked': 106, 'all': 107, 'beauty': 108, 'treasure': 109, 'lusty': 110, 'days': 111, 'say': 112, 'sunken': 113, 'were': 114, 'an': 115, 'all-eating': 116, 'shame': 117, 'thriftless': 118, 'praise': 119, 'how': 120, 'much': 121, 'more': 122, 'deserved': 123, 'use': 124, 'if': 125, 'couldst': 126, 'answer': 127, 'fair': 128, 'child': 129, 'mine': 130, 'sum': 131, 'my': 132, 'count': 133, 'make': 134, 'old': 135, 'excuse': 136, 'proving': 137, 'succession': 138, 'new': 139, 'made': 140, 'see': 141, 'blood': 142, 'warm': 143, \"feel'st\": 144, 'it': 145, 'cold': 146, 'look': 147, 'glass': 148, 'tell': 149, 'face': 150, 'viewest': 151, 'is': 152, 'form': 153, 'another': 154, 'whose': 155, 'repair': 156, 'not': 157, 'renewest': 158, 'dost': 159, 'beguile': 160, 'unbless': 161, 'some': 162, 'mother': 163, 'for': 164, 'she': 165, 'uneared': 166, 'womb': 167, 'disdains': 168, 'tillage': 169, 'husbandry': 170, 'who': 171, 'he': 172, 'fond': 173, 'tomb': 174, 'self-love': 175, 'stop': 176, 'posterity': 177, \"mother's\": 178, 'calls': 179, 'back': 180, 'lovely': 181, 'april': 182, 'her': 183, 'prime': 184, 'through': 185, 'windows': 186, 'age': 187, 'shalt': 188, 'despite': 189, 'wrinkles': 190, 'golden': 191, 'live': 192, 'remembered': 193, 'single': 194, 'image': 195, 'dies': 196, 'unthrifty': 197, 'loveliness': 198, 'why': 199, 'spend': 200, 'upon': 201, 'legacy': 202, \"nature's\": 203, 'bequest': 204, 'gives': 205, 'nothing': 206, 'doth': 207, 'lend': 208, 'frank': 209, 'lends': 210, 'those': 211, 'are': 212, 'free': 213, 'beauteous': 214, 'niggard': 215, 'abuse': 216, 'bounteous': 217, 'largess': 218, 'given': 219, 'give': 220, 'profitless': 221, 'usurer': 222, 'great': 223, 'sums': 224, 'yet': 225, 'canst': 226, 'having': 227, 'traffic': 228, 'alone': 229, 'deceive': 230, 'nature': 231, 'gone': 232, 'what': 233, 'acceptable': 234, 'audit': 235, 'leave': 236, 'unused': 237, 'must': 238, 'tombed': 239, 'which': 240, 'used': 241, 'lives': 242, \"th'\": 243, 'executor': 244, 'hours': 245, 'gentle': 246, 'work': 247, 'did': 248, 'frame': 249, 'gaze': 250, 'every': 251, 'eye': 252, 'dwell': 253, 'play': 254, 'tyrants': 255, 'very': 256, 'same': 257, 'unfair': 258, 'fairly': 259, 'excel': 260, 'never-resting': 261, 'leads': 262, 'summer': 263, 'hideous': 264, 'winter': 265, 'confounds': 266, 'him': 267, 'there': 268, 'sap': 269, 'checked': 270, 'frost': 271, 'leaves': 272, 'quite': 273, \"o'er-snowed\": 274, 'bareness': 275, 'summers': 276, 'distillation': 277, 'left': 278, 'liquid': 279, 'prisoner': 280, 'pent': 281, 'walls': 282, 'effect': 283, 'bereft': 284, 'nor': 285, 'no': 286, 'remembrance': 287, 'was': 288, 'flowers': 289, 'distilled': 290, 'though': 291, 'they': 292, 'meet': 293, 'leese': 294, 'their': 295, 'show': 296, 'substance': 297, 'still': 298, 'let': 299, 'ragged': 300, 'hand': 301, 'deface': 302, 'ere': 303, 'vial': 304, 'place': 305, 'self-killed': 306, 'forbidden': 307, 'usury': 308, 'happies': 309, 'pay': 310, 'willing': 311, 'loan': 312, \"that's\": 313, 'breed': 314, 'ten': 315, 'times': 316, 'happier': 317, 'one': 318, 'than': 319, 'refigured': 320, 'could': 321, 'death': 322, 'do': 323, 'shouldst': 324, 'depart': 325, 'leaving': 326, 'living': 327, 'self-willed': 328, 'deaths': 329, 'conquest': 330, 'worms': 331, 'lo': 332, 'orient': 333, 'gracious': 334, 'light': 335, 'lifts': 336, 'up': 337, 'burning': 338, 'head': 339, 'each': 340, 'under': 341, 'homage': 342, 'new-appearing': 343, 'sight': 344, 'serving': 345, 'looks': 346, 'sacred': 347, 'majesty': 348, 'climbed': 349, 'steep-up': 350, 'heavenly': 351, 'hill': 352, 'resembling': 353, 'strong': 354, 'youth': 355, 'middle': 356, 'mortal': 357, 'adore': 358, 'attending': 359, 'pilgrimage': 360, 'highmost': 361, 'pitch': 362, 'weary': 363, 'car': 364, 'like': 365, 'feeble': 366, 'reeleth': 367, 'day': 368, 'fore': 369, 'duteous': 370, 'converted': 371, 'low': 372, 'tract': 373, 'way': 374, 'out-going': 375, 'noon': 376, 'unlooked': 377, 'diest': 378, 'unless': 379, 'get': 380, 'son': 381, 'music': 382, 'hear': 383, \"hear'st\": 384, 'sadly': 385, 'sweets': 386, 'war': 387, 'joy': 388, 'delights': 389, \"lov'st\": 390, \"receiv'st\": 391, 'gladly': 392, 'pleasure': 393, 'annoy': 394, 'true': 395, 'concord': 396, 'well-tuned': 397, 'sounds': 398, 'unions': 399, 'married': 400, 'offend': 401, 'ear': 402, 'sweetly': 403, 'chide': 404, 'singleness': 405, 'parts': 406, 'mark': 407, 'string': 408, 'husband': 409, 'strikes': 410, 'mutual': 411, 'ordering': 412, 'sire': 413, 'happy': 414, 'pleasing': 415, 'note': 416, 'sing': 417, 'speechless': 418, 'song': 419, 'many': 420, 'seeming': 421, 'sings': 422, 'wilt': 423, 'prove': 424, 'none': 425, 'fear': 426, 'wet': 427, \"widow's\": 428, \"consum'st\": 429, 'life': 430, 'ah': 431, 'issueless': 432, 'hap': 433, 'wail': 434, 'makeless': 435, 'wife': 436, 'widow': 437, 'weep': 438, 'hast': 439, 'behind': 440, 'private': 441, 'well': 442, 'may': 443, 'keep': 444, \"children's\": 445, \"husband's\": 446, 'shape': 447, 'mind': 448, 'unthrift': 449, 'shifts': 450, 'enjoys': 451, 'hath': 452, 'end': 453, 'kept': 454, 'user': 455, 'destroys': 456, 'love': 457, 'toward': 458, 'others': 459, 'bosom': 460, 'sits': 461, 'himself': 462, 'such': 463, \"murd'rous\": 464, 'commits': 465, 'deny': 466, \"bear'st\": 467, 'any': 468, 'unprovident': 469, 'grant': 470, 'beloved': 471, 'most': 472, 'evident': 473, 'possessed': 474, 'hate': 475, \"'gainst\": 476, \"stick'st\": 477, 'conspire': 478, 'seeking': 479, 'roof': 480, 'ruinate': 481, 'chief': 482, 'O': 483, 'change': 484, 'thought': 485, 'I': 486, 'fairer': 487, 'lodged': 488, 'presence': 489, 'kind': 490, 'at': 491, 'least': 492, 'kind-hearted': 493, 'me': 494, 'fast': 495, 'wane': 496, \"grow'st\": 497, 'departest': 498, 'youngly': 499, \"bestow'st\": 500, 'mayst': 501, 'call': 502, 'convertest': 503, 'herein': 504, 'wisdom': 505, 'without': 506, 'folly': 507, 'decay': 508, 'minded': 509, 'cease': 510, 'threescore': 511, 'year': 512, 'would': 513, 'away': 514, 'whom': 515, 'store': 516, 'harsh': 517, 'featureless': 518, 'rude': 519, 'barrenly': 520, 'perish': 521, 'best': 522, 'endowed': 523, 'gave': 524, 'gift': 525, 'bounty': 526, 'cherish': 527, 'carved': 528, 'seal': 529, 'meant': 530, 'print': 531, 'copy': 532, 'clock': 533, 'tells': 534, 'brave': 535, 'sunk': 536, 'night': 537, 'behold': 538, 'violet': 539, 'past': 540, 'sable': 541, 'curls': 542, 'silvered': 543, \"o'er\": 544, 'white': 545, 'lofty': 546, 'trees': 547, 'barren': 548, 'erst': 549, 'heat': 550, 'canopy': 551, 'herd': 552, 'green': 553, 'girded': 554, 'sheaves': 555, 'borne': 556, 'bier': 557, 'bristly': 558, 'beard': 559, 'question': 560, 'among': 561, 'wastes': 562, 'go': 563, 'since': 564, 'beauties': 565, 'themselves': 566, 'forsake': 567, 'grow': 568, 'scythe': 569, 'can': 570, 'defence': 571, 'save': 572, 'takes': 573, 'hence': 574, 'you': 575, 'your': 576, 'longer': 577, 'yours': 578, 'here': 579, 'against': 580, 'coming': 581, 'prepare': 582, 'semblance': 583, 'other': 584, 'hold': 585, 'lease': 586, 'find': 587, 'determination': 588, 'again': 589, 'after': 590, \"self's\": 591, 'issue': 592, 'lets': 593, 'house': 594, 'fall': 595, 'honour': 596, 'uphold': 597, 'stormy': 598, 'gusts': 599, 'rage': 600, 'eternal': 601, 'unthrifts': 602, 'dear': 603, 'know': 604, 'had': 605, 'father': 606, 'stars': 607, 'judgement': 608, 'pluck': 609, 'methinks': 610, 'have': 611, 'astronomy': 612, 'good': 613, 'evil': 614, 'luck': 615, 'plagues': 616, 'dearths': 617, 'seasons': 618, 'quality': 619, 'fortune': 620, 'brief': 621, 'minutes': 622, 'pointing': 623, 'thunder': 624, 'rain': 625, 'wind': 626, 'princes': 627, 'oft': 628, 'predict': 629, 'heaven': 630, 'knowledge': 631, 'derive': 632, 'constant': 633, 'them': 634, 'read': 635, 'truth': 636, 'together': 637, 'thrive': 638, 'wouldst': 639, 'convert': 640, 'prognosticate': 641, 'truths': 642, 'doom': 643, 'date': 644, 'consider': 645, 'thing': 646, 'grows': 647, 'holds': 648, 'perfection': 649, 'little': 650, 'moment': 651, 'huge': 652, 'stage': 653, 'presenteth': 654, 'nought': 655, 'shows': 656, 'whereon': 657, 'secret': 658, 'influence': 659, 'comment': 660, 'perceive': 661, 'men': 662, 'plants': 663, 'cheered': 664, 'even': 665, 'self-same': 666, 'sky': 667, 'vaunt': 668, 'youthful': 669, 'height': 670, 'decrease': 671, 'wear': 672, 'state': 673, 'out': 674, 'conceit': 675, 'inconstant': 676, 'stay': 677, 'sets': 678, 'rich': 679, 'before': 680, 'wasteful': 681, 'debateth': 682, 'sullied': 683, 'engraft': 684, 'wherefore': 685, 'mightier': 686, 'bloody': 687, 'tyrant': 688, 'fortify': 689, 'means': 690, 'blessed': 691, 'rhyme': 692, 'stand': 693, 'top': 694, 'maiden': 695, 'gardens': 696, 'unset': 697, 'virtuous': 698, 'wish': 699, 'liker': 700, 'painted': 701, 'counterfeit': 702, 'lines': 703, 'pencil': 704, 'pupil': 705, 'pen': 706, 'neither': 707, 'inward': 708, 'outward': 709, 'keeps': 710, 'drawn': 711, 'skill': 712, 'believe': 713, 'verse': 714, 'come': 715, 'filled': 716, 'high': 717, 'deserts': 718, 'knows': 719, 'hides': 720, 'half': 721, 'write': 722, 'numbers': 723, 'number': 724, 'graces': 725, 'poet': 726, 'touches': 727, \"ne'er\": 728, 'touched': 729, 'earthly': 730, 'faces': 731, 'papers': 732, 'yellowed': 733, 'scorned': 734, 'less': 735, 'tongue': 736, 'rights': 737, 'termed': 738, 'poets': 739, 'stretched': 740, 'metre': 741, 'antique': 742, 'alive': 743, 'twice': 744, 'compare': 745, 'temperate': 746, 'rough': 747, 'winds': 748, 'shake': 749, 'darling': 750, 'buds': 751, 'short': 752, 'sometime': 753, 'hot': 754, 'shines': 755, 'often': 756, 'gold': 757, 'complexion': 758, 'dimmed': 759, 'declines': 760, 'chance': 761, 'changing': 762, 'course': 763, 'untrimmed': 764, 'fade': 765, 'lose': 766, 'possession': 767, \"ow'st\": 768, 'brag': 769, \"wand'rest\": 770, 'shade': 771, 'long': 772, 'breathe': 773, 'devouring': 774, 'blunt': 775, \"lion's\": 776, 'paws': 777, 'earth': 778, 'devour': 779, 'brood': 780, 'keen': 781, 'teeth': 782, 'fierce': 783, \"tiger's\": 784, 'jaws': 785, 'burn': 786, 'long-lived': 787, 'phoenix': 788, 'glad': 789, 'sorry': 790, \"fleet'st\": 791, \"whate'er\": 792, 'swift-footed': 793, 'wide': 794, 'fading': 795, 'forbid': 796, 'heinous': 797, 'crime': 798, 'carve': 799, 'loves': 800, 'draw': 801, 'untainted': 802, 'allow': 803, 'pattern': 804, 'succeeding': 805, 'worst': 806, 'wrong': 807, 'ever': 808, 'young': 809, \"woman's\": 810, 'master': 811, 'mistress': 812, 'passion': 813, 'heart': 814, 'acquainted': 815, 'shifting': 816, 'false': 817, \"women's\": 818, 'fashion': 819, 'theirs': 820, 'rolling': 821, 'gilding': 822, 'object': 823, 'whereupon': 824, 'gazeth': 825, 'man': 826, 'hue': 827, 'hues': 828, 'controlling': 829, 'steals': 830, \"men's\": 831, 'souls': 832, 'amazeth': 833, 'woman': 834, 'wert': 835, 'first': 836, 'created': 837, 'till': 838, 'wrought': 839, 'fell': 840, 'a-doting': 841, 'addition': 842, 'defeated': 843, 'adding': 844, 'purpose': 845, 'pricked': 846, 'muse': 847, 'stirred': 848, 'rehearse': 849, 'couplement': 850, 'sun': 851, 'moon': 852, \"sea's\": 853, 'gems': 854, \"april's\": 855, 'first-born': 856, 'things': 857, 'rare': 858, \"heaven's\": 859, 'air': 860, 'rondure': 861, 'hems': 862, 'truly': 863, 'candles': 864, 'fixed': 865, 'hearsay': 866, 'sell': 867, 'persuade': 868, 'am': 869, 'furrows': 870, 'expiate': 871, 'cover': 872, 'seemly': 873, 'raiment': 874, 'breast': 875, 'elder': 876, 'therefore': 877, 'thyself': 878, 'wary': 879, 'bearing': 880, 'chary': 881, 'nurse': 882, 'babe': 883, 'faring': 884, 'ill': 885, 'presume': 886, 'slain': 887, \"gav'st\": 888, 'unperfect': 889, 'actor': 890, 'put': 891, 'beside': 892, 'part': 893, 'replete': 894, \"strength's\": 895, 'weakens': 896, 'trust': 897, 'forget': 898, 'perfect': 899, 'ceremony': 900, 'rite': 901, 'strength': 902, 'seem': 903, \"o'ercharged\": 904, 'burthen': 905, 'eloquence': 906, 'dumb': 907, 'presagers': 908, 'speaking': 909, 'plead': 910, 'recompense': 911, 'expressed': 912, 'learn': 913, 'silent': 914, 'writ': 915, 'belongs': 916, 'fine': 917, 'wit': 918, 'played': 919, 'painter': 920, 'stelled': 921, 'table': 922, 'body': 923, 'wherein': 924, \"'tis\": 925, 'perspective': 926, \"painter's\": 927, 'pictured': 928, 'bosoms': 929, 'shop': 930, 'hanging': 931, 'glazed': 932, 'turns': 933, 'done': 934, 'where-through': 935, 'peep': 936, 'therein': 937, 'cunning': 938, 'want': 939, 'grace': 940, 'favour': 941, 'public': 942, 'titles': 943, 'boast': 944, 'whilst': 945, 'triumph': 946, 'bars': 947, 'favourites': 948, 'spread': 949, 'marigold': 950, 'suns': 951, 'pride': 952, 'buried': 953, 'frown': 954, 'glory': 955, 'painful': 956, 'warrior': 957, 'famoused': 958, 'fight': 959, 'thousand': 960, 'victories': 961, 'once': 962, 'foiled': 963, 'book': 964, 'razed': 965, 'rest': 966, 'forgot': 967, 'toiled': 968, 'remove': 969, 'removed': 970, 'lord': 971, 'vassalage': 972, 'merit': 973, 'duty': 974, 'strongly': 975, 'knit': 976, 'send': 977, 'written': 978, 'embassage': 979, 'witness': 980, 'poor': 981, 'bare': 982, 'wanting': 983, 'words': 984, 'hope': 985, 'naked': 986, 'bestow': 987, 'whatsoever': 988, 'star': 989, 'guides': 990, 'moving': 991, 'points': 992, 'graciously': 993, 'aspect': 994, 'puts': 995, 'apparel': 996, 'loving': 997, 'worthy': 998, 'respect': 999, 'dare': 1000, 'toil': 1001, 'haste': 1002, 'bed': 1003, 'respose': 1004, 'limbs': 1005, 'travel': 1006, 'tired': 1007, 'begins': 1008, 'journey': 1009, \"body's\": 1010, 'works': 1011, 'expired': 1012, 'thoughts': 1013, 'far': 1014, 'abide': 1015, 'intend': 1016, 'zealous': 1017, 'drooping': 1018, 'eyelids': 1019, 'open': 1020, 'looking': 1021, 'darkness': 1022, 'blind': 1023, 'imaginary': 1024, 'presents': 1025, 'shadow': 1026, 'sightless': 1027, 'view': 1028, 'jewel': 1029, 'hung': 1030, 'ghastly': 1031, 'makes': 1032, 'black': 1033, 'thus': 1034, 'quiet': 1035, 'return': 1036, 'plight': 1037, 'debarred': 1038, 'benefit': 1039, 'oppression': 1040, 'eased': 1041, 'oppressed': 1042, 'enemies': 1043, \"either's\": 1044, 'reign': 1045, 'consent': 1046, 'hands': 1047, 'torture': 1048, 'complain': 1049, 'farther': 1050, 'off': 1051, 'please': 1052, 'clouds': 1053, 'blot': 1054, 'flatter': 1055, 'swart-complexioned': 1056, 'sparkling': 1057, 'twire': 1058, \"gild'st\": 1059, 'daily': 1060, 'sorrows': 1061, 'nightly': 1062, 'griefs': 1063, 'length': 1064, 'stronger': 1065, 'disgrace': 1066, 'beweep': 1067, 'outcast': 1068, 'trouble': 1069, 'deaf': 1070, 'bootless': 1071, 'cries': 1072, 'curse': 1073, 'fate': 1074, 'wishing': 1075, 'featured': 1076, 'friends': 1077, 'desiring': 1078, \"man's\": 1079, 'scope': 1080, 'enjoy': 1081, 'contented': 1082, 'these': 1083, 'almost': 1084, 'despising': 1085, 'haply': 1086, 'think': 1087, 'lark': 1088, 'break': 1089, 'arising': 1090, 'sullen': 1091, 'hymns': 1092, 'gate': 1093, 'wealth': 1094, 'brings': 1095, 'scorn': 1096, 'kings': 1097, 'sessions': 1098, 'summon': 1099, 'sigh': 1100, 'lack': 1101, 'sought': 1102, 'woes': 1103, 'drown': 1104, 'flow': 1105, 'precious': 1106, 'hid': 1107, 'dateless': 1108, 'afresh': 1109, 'cancelled': 1110, 'woe': 1111, 'moan': 1112, 'expense': 1113, 'vanished': 1114, 'grieve': 1115, 'grievances': 1116, 'foregone': 1117, 'heavily': 1118, 'sad': 1119, 'account': 1120, 'fore-bemoaned': 1121, 'paid': 1122, 'while': 1123, 'friend': 1124, 'losses': 1125, 'restored': 1126, 'endeared': 1127, 'hearts': 1128, 'lacking': 1129, 'supposed': 1130, 'dead': 1131, 'reigns': 1132, 'holy': 1133, 'obsequious': 1134, 'tear': 1135, 'religious': 1136, \"stol'n\": 1137, 'interest': 1138, 'appear': 1139, 'hidden': 1140, 'lie': 1141, 'trophies': 1142, 'lovers': 1143, 'images': 1144, 'loved': 1145, 'survive': 1146, 'well-contented': 1147, 'bones': 1148, 'dust': 1149, 're-survey': 1150, 'deceased': 1151, 'lover': 1152, \"bett'ring\": 1153, 'outstripped': 1154, 'reserve': 1155, 'exceeded': 1156, 'vouchsafe': 1157, 'grown': 1158, 'growing': 1159, 'dearer': 1160, 'birth': 1161, 'brought': 1162, 'march': 1163, 'ranks': 1164, 'better': 1165, 'equipage': 1166, 'died': 1167, 'style': 1168, 'full': 1169, 'glorious': 1170, 'morning': 1171, 'seen': 1172, 'mountain': 1173, 'tops': 1174, 'sovereign': 1175, 'kissing': 1176, 'meadows': 1177, 'pale': 1178, 'streams': 1179, 'alchemy': 1180, 'anon': 1181, 'permit': 1182, 'basest': 1183, 'ride': 1184, 'ugly': 1185, 'rack': 1186, 'celestial': 1187, 'forlorn': 1188, 'visage': 1189, 'hide': 1190, 'stealing': 1191, 'unseen': 1192, 'west': 1193, 'early': 1194, 'morn': 1195, 'shine': 1196, 'triumphant': 1197, 'splendour': 1198, 'alack': 1199, 'hour': 1200, 'region': 1201, 'cloud': 1202, 'masked': 1203, 'whit': 1204, 'disdaineth': 1205, 'stain': 1206, 'staineth': 1207, 'didst': 1208, 'promise': 1209, 'forth': 1210, 'cloak': 1211, 'base': 1212, \"o'ertake\": 1213, 'hiding': 1214, \"brav'ry\": 1215, 'rotten': 1216, 'smoke': 1217, 'enough': 1218, 'dry': 1219, 'storm-beaten': 1220, 'salve': 1221, 'speak': 1222, 'heals': 1223, 'wound': 1224, 'cures': 1225, 'physic': 1226, 'grief': 1227, 'repent': 1228, 'loss': 1229, 'offenders': 1230, 'sorrow': 1231, 'weak': 1232, 'relief': 1233, 'bears': 1234, 'offences': 1235, 'cross': 1236, 'tears': 1237, 'pearl': 1238, 'sheds': 1239, 'ransom': 1240, 'deeds': 1241, 'grieved': 1242, 'roses': 1243, 'thorns': 1244, 'silver': 1245, 'fountains': 1246, 'mud': 1247, 'eclipses': 1248, 'both': 1249, 'loathsome': 1250, 'canker': 1251, 'sweetest': 1252, 'faults': 1253, 'authorizing': 1254, 'trespass': 1255, 'corrupting': 1256, 'salving': 1257, 'amiss': 1258, 'excusing': 1259, 'sins': 1260, 'sensual': 1261, 'fault': 1262, 'bring': 1263, 'sense': 1264, 'adverse': 1265, 'party': 1266, 'advocate': 1267, 'lawful': 1268, 'plea': 1269, 'commence': 1270, 'civil': 1271, 'accessary': 1272, 'needs': 1273, 'thief': 1274, 'sourly': 1275, 'robs': 1276, 'confess': 1277, 'two': 1278, 'twain': 1279, 'although': 1280, 'our': 1281, 'undivided': 1282, 'blots': 1283, 'remain': 1284, 'help': 1285, 'separable': 1286, 'spite': 1287, 'alter': 1288, 'sole': 1289, 'steal': 1290, 'delight': 1291, 'evermore': 1292, 'acknowledge': 1293, 'lest': 1294, 'bewailed': 1295, 'guilt': 1296, 'kindness': 1297, 'take': 1298, 'name': 1299, 'sort': 1300, 'report': 1301, 'decrepit': 1302, 'active': 1303, 'lame': 1304, \"fortune's\": 1305, 'dearest': 1306, 'comfort': 1307, 'whether': 1308, 'entitled': 1309, 'crowned': 1310, 'sit': 1311, 'engrafted': 1312, 'despised': 1313, 'sufficed': 1314, 'subject': 1315, 'invent': 1316, \"pour'st\": 1317, 'into': 1318, 'argument': 1319, 'excellent': 1320, 'vulgar': 1321, 'paper': 1322, 'thanks': 1323, 'aught': 1324, 'perusal': 1325, \"who's\": 1326, 'cannot': 1327, 'invention': 1328, 'tenth': 1329, 'nine': 1330, 'rhymers': 1331, 'invocate': 1332, 'outlive': 1333, 'slight': 1334, 'curious': 1335, 'pain': 1336, 'manners': 1337, \"is't\": 1338, 'us': 1339, 'divided': 1340, 'separation': 1341, \"deserv'st\": 1342, 'absence': 1343, 'torment': 1344, 'sour': 1345, 'leisure': 1346, 'entertain': 1347, 'teachest': 1348, 'praising': 1349, 'yea': 1350, 'hadst': 1351, 'receivest': 1352, 'blame': 1353, 'usest': 1354, 'blamed': 1355, 'deceivest': 1356, 'wilful': 1357, 'taste': 1358, 'refusest': 1359, 'forgive': 1360, 'robbery': 1361, 'poverty': 1362, 'greater': 1363, \"hate's\": 1364, 'known': 1365, 'injury': 1366, 'lascivious': 1367, 'kill': 1368, 'spites': 1369, 'foes': 1370, 'pretty': 1371, 'wrongs': 1372, 'liberty': 1373, 'absent': 1374, 'years': 1375, 'befits': 1376, 'temptation': 1377, 'follows': 1378, 'won': 1379, 'assailed': 1380, 'woos': 1381, 'prevailed': 1382, 'ay': 1383, 'mightst': 1384, 'seat': 1385, 'forbear': 1386, 'straying': 1387, 'lead': 1388, 'riot': 1389, 'forced': 1390, 'twofold': 1391, 'hers': 1392, 'tempting': 1393, 'said': 1394, 'dearly': 1395, 'wailing': 1396, 'nearly': 1397, 'ye': 1398, 'because': 1399, \"know'st\": 1400, 'sake': 1401, \"suff'ring\": 1402, 'approve': 1403, 'gain': 1404, 'losing': 1405, 'found': 1406, 'lay': 1407, \"here's\": 1408, 'flattery': 1409, 'wink': 1410, 'unrespected': 1411, 'sleep': 1412, 'dreams': 1413, 'darkly': 1414, 'dark': 1415, 'directed': 1416, 'shadows': 1417, 'clear': 1418, 'clearer': 1419, 'unseeing': 1420, 'imperfect': 1421, 'heavy': 1422, 'nights': 1423, 'dull': 1424, 'flesh': 1425, 'injurious': 1426, 'distance': 1427, 'space': 1428, 'limits': 1429, 'remote': 1430, 'matter': 1431, 'foot': 1432, 'farthest': 1433, 'nimble': 1434, 'jump': 1435, 'sea': 1436, 'land': 1437, 'soon': 1438, 'kills': 1439, 'leap': 1440, 'large': 1441, 'lengths': 1442, 'miles': 1443, 'water': 1444, 'attend': 1445, 'receiving': 1446, 'elements': 1447, 'slow': 1448, 'badges': 1449, 'purging': 1450, 'fire': 1451, 'wherever': 1452, 'present-absent': 1453, 'swift': 1454, 'motion': 1455, 'slide': 1456, 'quicker': 1457, 'embassy': 1458, 'four': 1459, 'sinks': 1460, 'down': 1461, 'melancholy': 1462, 'until': 1463, \"life's\": 1464, 'composition': 1465, 'recured': 1466, 'messengers': 1467, 'returned': 1468, 'assured': 1469, 'health': 1470, 'recounting': 1471, 'told': 1472, 'straight': 1473, 'divide': 1474, \"picture's\": 1475, 'bar': 1476, 'freedom': 1477, 'right': 1478, 'closet': 1479, 'pierced': 1480, 'crystal': 1481, 'defendant': 1482, 'says': 1483, 'appearance': 1484, 'side': 1485, 'title': 1486, 'impanelled': 1487, 'quest': 1488, 'tenants': 1489, 'verdict': 1490, 'determined': 1491, 'moiety': 1492, 'betwixt': 1493, 'league': 1494, 'took': 1495, 'unto': 1496, 'famished': 1497, 'sighs': 1498, 'smother': 1499, 'picture': 1500, 'feast': 1501, 'banquet': 1502, 'bids': 1503, 'guest': 1504, 'share': 1505, 'either': 1506, 'present': 1507, 'move': 1508, 'awakes': 1509, 'careful': 1510, 'trifle': 1511, 'truest': 1512, 'thrust': 1513, 'falsehood': 1514, 'sure': 1515, 'wards': 1516, 'jewels': 1517, 'trifles': 1518, 'greatest': 1519, 'care': 1520, 'prey': 1521, 'locked': 1522, 'chest': 1523, 'feel': 1524, 'closure': 1525, 'whence': 1526, 'thence': 1527, 'proves': 1528, 'thievish': 1529, 'prize': 1530, 'defects': 1531, 'cast': 1532, 'utmost': 1533, 'called': 1534, 'advised': 1535, 'respects': 1536, 'strangely': 1537, 'pass': 1538, 'scarcely': 1539, 'greet': 1540, 'reasons': 1541, 'settled': 1542, 'gravity': 1543, 'ensconce': 1544, 'desert': 1545, 'uprear': 1546, 'guard': 1547, 'laws': 1548, 'allege': 1549, 'cause': 1550, 'seek': 1551, 'travels': 1552, 'teach': 1553, 'case': 1554, 'repose': 1555, 'measured': 1556, 'beast': 1557, 'plods': 1558, 'dully': 1559, 'weight': 1560, 'instinct': 1561, 'wretch': 1562, 'rider': 1563, 'speed': 1564, 'spur': 1565, 'provoke': 1566, 'sometimes': 1567, 'anger': 1568, 'thrusts': 1569, 'answers': 1570, 'groan': 1571, 'sharp': 1572, 'spurring': 1573, 'onward': 1574, 'offence': 1575, 'bearer': 1576, 'posting': 1577, 'need': 1578, 'extremity': 1579, 'mounted': 1580, 'winged': 1581, 'horse': 1582, 'pace': 1583, \"perfect'st\": 1584, 'neigh': 1585, 'fiery': 1586, 'race': 1587, 'jade': 1588, 'going': 1589, 'went': 1590, 'wilful-slow': 1591, 'towards': 1592, 'run': 1593, 'key': 1594, 'up-locked': 1595, 'survey': 1596, 'blunting': 1597, 'point': 1598, 'seldom': 1599, 'feasts': 1600, 'solemn': 1601, 'set': 1602, 'stones': 1603, 'thinly': 1604, 'placed': 1605, 'captain': 1606, 'carcanet': 1607, 'wardrobe': 1608, 'robe': 1609, 'special': 1610, 'instant': 1611, 'special-blest': 1612, 'unfolding': 1613, 'imprisoned': 1614, 'worthiness': 1615, 'lacked': 1616, 'whereof': 1617, 'millions': 1618, 'strange': 1619, 'tend': 1620, 'describe': 1621, 'adonis': 1622, 'poorly': 1623, 'imitated': 1624, \"helen's\": 1625, 'cheek': 1626, 'grecian': 1627, 'tires': 1628, 'foison': 1629, 'external': 1630, 'deem': 1631, 'odour': 1632, 'blooms': 1633, 'dye': 1634, 'perfumed': 1635, 'tincture': 1636, 'hang': 1637, 'wantonly': 1638, 'breath': 1639, 'discloses': 1640, 'virtue': 1641, 'unwooed': 1642, 'odours': 1643, 'distills': 1644, 'marble': 1645, 'gilded': 1646, 'monuments': 1647, 'powerful': 1648, 'contents': 1649, 'unswept': 1650, 'stone': 1651, 'besmeared': 1652, 'sluttish': 1653, 'statues': 1654, 'overturn': 1655, 'broils': 1656, 'root': 1657, 'masonry': 1658, 'mars': 1659, 'sword': 1660, \"war's\": 1661, 'quick': 1662, 'record': 1663, 'all-oblivious': 1664, 'enmity': 1665, 'room': 1666, 'ending': 1667, 'judgment': 1668, 'arise': 1669, 'renew': 1670, 'force': 1671, 'edge': 1672, 'blunter': 1673, 'appetite': 1674, 'to-day': 1675, 'feeding': 1676, 'allayed': 1677, 'to-morrow': 1678, 'sharpened': 1679, 'former': 1680, 'fill': 1681, 'hungry': 1682, 'fulness': 1683, 'spirit': 1684, 'perpetual': 1685, 'dulness': 1686, 'interim': 1687, 'ocean': 1688, 'shore': 1689, 'banks': 1690, 'blest': 1691, 'welcome': 1692, 'thrice': 1693, 'wished': 1694, 'slave': 1695, 'services': 1696, 'require': 1697, 'world-without-end': 1698, 'watch': 1699, 'bitterness': 1700, 'bid': 1701, 'servant': 1702, 'adieu': 1703, 'jealous': 1704, 'affairs': 1705, 'suppose': 1706, 'fool': 1707, 'thinks': 1708, 'god': 1709, 'control': 1710, 'crave': 1711, 'vassal': 1712, 'bound': 1713, 'suffer': 1714, 'beck': 1715, 'patience': 1716, 'tame': 1717, 'sufferance': 1718, 'bide': 1719, 'check': 1720, 'accusing': 1721, 'list': 1722, 'charter': 1723, 'privilage': 1724, 'belong': 1725, 'pardon': 1726, 'self-doing': 1727, 'wait': 1728, 'waiting': 1729, 'hell': 1730, 'been': 1731, 'brains': 1732, 'beguiled': 1733, 'labouring': 1734, 'amis': 1735, 'second': 1736, 'backward': 1737, 'five': 1738, 'hundred': 1739, 'courses': 1740, 'character': 1741, 'composed': 1742, 'wonder': 1743, 'mended': 1744, 'revolution': 1745, 'wits': 1746, 'subjects': 1747, 'worse': 1748, 'admiring': 1749, 'waves': 1750, 'pebbled': 1751, 'hasten': 1752, 'goes': 1753, 'sequent': 1754, 'forwards': 1755, 'contend': 1756, 'nativity': 1757, 'main': 1758, 'crawls': 1759, 'maturity': 1760, 'wherewith': 1761, 'crooked': 1762, 'confound': 1763, 'transfix': 1764, 'flourish': 1765, 'delves': 1766, 'parallels': 1767, 'feeds': 1768, 'rarities': 1769, 'stands': 1770, 'mow': 1771, 'slumbers': 1772, 'broken': 1773, 'mock': 1774, \"send'st\": 1775, 'home': 1776, 'pry': 1777, 'shames': 1778, 'idle': 1779, 'tenure': 1780, 'jealousy': 1781, 'awake': 1782, 'defeat': 1783, 'watchman': 1784, 'wake': 1785, 'elsewhere': 1786, 'near': 1787, 'sin': 1788, 'possesseth': 1789, 'soul': 1790, 'remedy': 1791, 'grounded': 1792, 'define': 1793, 'worths': 1794, 'surmount': 1795, 'indeed': 1796, 'beated': 1797, 'chopt': 1798, 'tanned': 1799, 'antiquity': 1800, 'contrary': 1801, 'self-loving': 1802, 'iniquity': 1803, 'painting': 1804, 'crushed': 1805, \"o'erworn\": 1806, 'drained': 1807, 'travelled': 1808, 'ages': 1809, 'steepy': 1810, \"he's\": 1811, 'king': 1812, 'vanishing': 1813, 'confounding': 1814, 'knife': 1815, 'cut': 1816, 'defaced': 1817, 'rich-proud': 1818, 'cost': 1819, 'outworn': 1820, 'towers': 1821, 'down-rased': 1822, 'brass': 1823, 'advantage': 1824, 'kingdom': 1825, 'firm': 1826, 'soil': 1827, 'win': 1828, 'watery': 1829, 'increasing': 1830, 'interchange': 1831, 'confounded': 1832, 'ruin': 1833, 'taught': 1834, 'ruminate': 1835, 'choose': 1836, 'fears': 1837, 'boundless': 1838, 'mortality': 1839, \"o'ersways\": 1840, 'power': 1841, 'action': 1842, 'flower': 1843, 'honey': 1844, 'wrackful': 1845, 'siege': 1846, \"batt'ring\": 1847, 'rocks': 1848, 'impregnable': 1849, 'stout': 1850, 'gates': 1851, 'steel': 1852, 'decays': 1853, 'fearful': 1854, 'meditation': 1855, 'spoil': 1856, 'miracle': 1857, 'ink': 1858, 'restful': 1859, 'cry': 1860, 'beggar': 1861, 'born': 1862, 'needy': 1863, 'trimmed': 1864, 'jollity': 1865, 'purest': 1866, 'faith': 1867, 'unhappily': 1868, 'forsworn': 1869, 'shamefully': 1870, 'misplaced': 1871, 'rudely': 1872, 'strumpeted': 1873, 'wrongfully': 1874, 'disgraced': 1875, 'limping': 1876, 'sway': 1877, 'disabled': 1878, 'tongue-tied': 1879, 'authority': 1880, 'doctor-like': 1881, 'simple': 1882, 'miscalled': 1883, 'simplicity': 1884, 'captive': 1885, 'infection': 1886, 'impiety': 1887, 'achieve': 1888, 'lace': 1889, 'society': 1890, 'imitate': 1891, 'indirectly': 1892, 'bankrupt': 1893, 'beggared': 1894, 'blush': 1895, 'lively': 1896, 'veins': 1897, 'exchequer': 1898, 'gains': 1899, 'stores': 1900, 'last': 1901, 'bad': 1902, 'map': 1903, 'lived': 1904, 'bastard': 1905, 'signs': 1906, 'durst': 1907, 'inhabit': 1908, 'tresses': 1909, 'sepulchres': 1910, 'shorn': 1911, 'fleece': 1912, 'gay': 1913, \"another's\": 1914, 'robbing': 1915, 'dress': 1916, 'yore': 1917, 'mend': 1918, 'tongues': 1919, 'voice': 1920, 'uttering': 1921, 'commend': 1922, 'accents': 1923, 'seeing': 1924, 'shown': 1925, 'guess': 1926, 'measure': 1927, 'churls': 1928, 'add': 1929, 'rank': 1930, 'smell': 1931, 'weeds': 1932, 'matcheth': 1933, 'common': 1934, 'defect': 1935, \"slander's\": 1936, 'suspect': 1937, 'crow': 1938, 'flies': 1939, 'slander': 1940, 'wooed': 1941, 'vice': 1942, \"present'st\": 1943, 'pure': 1944, 'unstained': 1945, 'passed': 1946, 'ambush': 1947, 'victor': 1948, 'charged': 1949, 'tie': 1950, 'envy': 1951, 'enlarged': 1952, 'kingdoms': 1953, 'owe': 1954, 'mourn': 1955, 'surly': 1956, 'bell': 1957, 'warning': 1958, 'fled': 1959, 'vile': 1960, 'vilest': 1961, 'nay': 1962, 'line': 1963, 'remember': 1964, 'thinking': 1965, 'perhaps': 1966, 'compounded': 1967, 'clay': 1968, 'wise': 1969, 'task': 1970, 'recite': 1971, 'devise': 1972, 'willingly': 1973, 'impart': 1974, 'untrue': 1975, 'shamed': 1976, 'yellow': 1977, 'few': 1978, 'boughs': 1979, 'ruined': 1980, 'choirs': 1981, 'late': 1982, 'birds': 1983, 'sang': 1984, 'seest': 1985, 'twilight': 1986, 'sunset': 1987, 'fadeth': 1988, 'seals': 1989, 'glowing': 1990, 'ashes': 1991, 'death-bed': 1992, 'expire': 1993, 'consumed': 1994, 'nourished': 1995, \"perceiv'st\": 1996, 'arrest': 1997, 'bail': 1998, 'carry': 1999, 'memorial': 2000, 'reviewest': 2001, 'review': 2002, 'consecrate': 2003, 'lost': 2004, 'dregs': 2005, 'coward': 2006, \"wretch's\": 2007, 'contains': 2008, 'remains': 2009, 'food': 2010, 'sweet-seasoned': 2011, 'showers': 2012, 'ground': 2013, 'peace': 2014, 'strife': 2015, \"'twixt\": 2016, 'miser': 2017, 'enjoyer': 2018, 'doubting': 2019, 'filching': 2020, 'counting': 2021, 'bettered': 2022, 'feasting': 2023, 'clean': 2024, 'starved': 2025, 'possessing': 2026, 'pursuing': 2027, 'pine': 2028, 'surfeit': 2029, 'gluttoning': 2030, 'variation': 2031, 'glance': 2032, 'aside': 2033, 'new-found': 2034, 'methods': 2035, 'compounds': 2036, 'noted': 2037, 'word': 2038, 'showing': 2039, 'proceed': 2040, 'always': 2041, 'dressing': 2042, 'spending': 2043, 'already': 2044, 'spent': 2045, 'telling': 2046, 'dial': 2047, 'vacant': 2048, 'minds': 2049, 'imprint': 2050, 'learning': 2051, 'mouthed': 2052, 'graves': 2053, \"dial's\": 2054, 'shady': 2055, 'stealth': 2056, 'progress': 2057, 'eternity': 2058, 'contain': 2059, 'commit': 2060, 'blanks': 2061, 'children': 2062, 'nursed': 2063, 'delivered': 2064, 'brain': 2065, 'acquaintance': 2066, 'offices': 2067, 'profit': 2068, 'enrich': 2069, 'invoked': 2070, 'assistance': 2071, 'alien': 2072, 'got': 2073, 'poesy': 2074, 'disperse': 2075, 'ignorance': 2076, 'aloft': 2077, 'fly': 2078, 'added': 2079, 'feathers': 2080, \"learned's\": 2081, 'wing': 2082, 'double': 2083, 'compile': 2084, 'arts': 2085, 'graced': 2086, 'advance': 2087, 'aid': 2088, 'decayed': 2089, 'sick': 2090, 'deserves': 2091, 'travail': 2092, 'worthier': 2093, 'pays': 2094, 'stole': 2095, 'behaviour': 2096, 'afford': 2097, 'thank': 2098, 'owes': 2099, 'faint': 2100, 'knowing': 2101, 'thereof': 2102, 'spends': 2103, 'fame': 2104, 'humble': 2105, 'proudest': 2106, 'sail': 2107, 'saucy': 2108, 'bark': 2109, 'inferior': 2110, 'broad': 2111, 'wilfully': 2112, 'shallowest': 2113, 'afloat': 2114, 'soundless': 2115, 'wrecked': 2116, 'worthless': 2117, 'boat': 2118, 'tall': 2119, 'building': 2120, 'goodly': 2121, 'epitaph': 2122, 'forgotten': 2123, 'immortal': 2124, 'yield': 2125, 'entombed': 2126, 'monument': 2127, \"o'er-read\": 2128, 'breathers': 2129, 'breathes': 2130, 'mouths': 2131, 'attaint': 2132, \"o'erlook\": 2133, 'dedicated': 2134, 'writers': 2135, 'blessing': 2136, 'finding': 2137, 'limit': 2138, 'enforced': 2139, 'anew': 2140, 'fresher': 2141, 'stamp': 2142, 'time-bettering': 2143, 'devised': 2144, 'strained': 2145, 'rhetoric': 2146, 'sympathized': 2147, 'plain': 2148, 'true-telling': 2149, 'gross': 2150, 'cheeks': 2151, 'abused': 2152, 'saw': 2153, 'exceed': 2154, 'debt': 2155, 'slept': 2156, 'extant': 2157, 'modern': 2158, 'quill': 2159, 'silence': 2160, 'impute': 2161, 'impair': 2162, 'mute': 2163, 'confine': 2164, 'immured': 2165, 'example': 2166, 'equal': 2167, 'grew': 2168, 'lean': 2169, 'penury': 2170, 'writes': 2171, 'dignifies': 2172, 'story': 2173, 'counterpart': 2174, 'admired': 2175, 'blessings': 2176, 'praises': 2177, 'comments': 2178, 'richly': 2179, 'compiled': 2180, 'phrase': 2181, 'muses': 2182, 'filed': 2183, 'unlettered': 2184, 'clerk': 2185, 'amen': 2186, 'hymn': 2187, 'able': 2188, 'affords': 2189, 'polished': 2190, 'refined': 2191, 'hearing': 2192, 'praised': 2193, 'something': 2194, 'hindmost': 2195, 'ripe': 2196, 'inhearse': 2197, 'spirits': 2198, 'above': 2199, 'struck': 2200, 'compeers': 2201, 'giving': 2202, 'astonished': 2203, 'affable': 2204, 'familiar': 2205, 'ghost': 2206, 'gulls': 2207, 'intelligence': 2208, 'victors': 2209, 'countenance': 2210, 'enfeebled': 2211, 'farewell': 2212, 'estimate': 2213, 'releasing': 2214, 'bonds': 2215, 'determinate': 2216, 'granting': 2217, 'riches': 2218, 'deserving': 2219, 'patent': 2220, 'swerving': 2221, 'mistaking': 2222, 'misprision': 2223, 'comes': 2224, 'dream': 2225, 'waking': 2226, 'disposed': 2227, 'weakness': 2228, 'concealed': 2229, 'attainted': 2230, 'gainer': 2231, 'bending': 2232, 'injuries': 2233, 'doing': 2234, 'vantage': 2235, 'double-vantage': 2236, 'lameness': 2237, 'halt': 2238, 'desired': 2239, 'strangle': 2240, 'walks': 2241, 'profane': 2242, 'vow': 2243, 'debate': 2244, 'bent': 2245, 'join': 2246, 'bow': 2247, 'drop': 2248, 'after-loss': 2249, \"'scaped\": 2250, 'rearward': 2251, 'conquered': 2252, 'windy': 2253, 'rainy': 2254, 'morrow': 2255, 'linger': 2256, 'purposed': 2257, 'overthrow': 2258, 'petty': 2259, 'onset': 2260, 'strains': 2261, 'compared': 2262, 'garments': 2263, 'new-fangled': 2264, 'hawks': 2265, 'hounds': 2266, 'humour': 2267, 'adjunct': 2268, 'finds': 2269, 'particulars': 2270, 'general': 2271, 'richer': 2272, 'prouder': 2273, 'costs': 2274, 'horses': 2275, 'wretched': 2276, 'term': 2277, 'depends': 2278, 'depend': 2279, 'vex': 2280, 'revolt': 2281, \"what's\": 2282, 'blessed-fair': 2283, 'supposing': 2284, 'deceived': 2285, 'altered': 2286, 'hatred': 2287, \"many's\": 2288, 'history': 2289, 'moods': 2290, 'frowns': 2291, 'creation': 2292, 'decree': 2293, 'workings': 2294, 'sweetness': 2295, \"eve's\": 2296, 'apple': 2297, 'hurt': 2298, 'unmoved': 2299, 'rightly': 2300, 'inherit': 2301, 'tibey': 2302, 'lords': 2303, 'owners': 2304, 'stewards': 2305, 'excellence': 2306, 'outbraves': 2307, 'dignity': 2308, 'turn': 2309, 'sourest': 2310, 'lilies': 2311, 'fester': 2312, 'fragrant': 2313, 'spot': 2314, 'budding': 2315, 'enclose': 2316, 'sport': 2317, 'dispraise': 2318, 'naming': 2319, 'blesses': 2320, 'mansion': 2321, 'vices': 2322, 'habitation': 2323, 'chose': 2324, 'veil': 2325, 'heed': 2326, 'privilege': 2327, 'hardest': 2328, 'ill-used': 2329, 'wantonness': 2330, 'resort': 2331, 'finger': 2332, 'throned': 2333, 'queen': 2334, 'esteemed': 2335, 'errors': 2336, 'translated': 2337, 'deemed': 2338, 'lambs': 2339, 'stern': 2340, 'wolf': 2341, 'betray': 2342, 'lamb': 2343, 'translate': 2344, 'gazers': 2345, 'fleeting': 2346, 'freezings': 2347, 'felt': 2348, \"december's\": 2349, 'everywhere': 2350, 'teeming': 2351, 'autumn': 2352, 'big': 2353, 'wanton': 2354, 'burden': 2355, 'widowed': 2356, 'wombs': 2357, 'abundant': 2358, 'seemed': 2359, 'orphans': 2360, 'unfathered': 2361, 'fruit': 2362, 'pleasures': 2363, 'cheer': 2364, 'dreading': 2365, 'proud-pied': 2366, 'dressed': 2367, 'trim': 2368, 'saturn': 2369, 'laughed': 2370, 'leaped': 2371, 'lays': 2372, 'different': 2373, 'lap': 2374, \"lily's\": 2375, 'vermilion': 2376, 'figures': 2377, 'forward': 2378, 'smells': 2379, 'purple': 2380, 'soft': 2381, 'dwells': 2382, 'grossly': 2383, 'dyed': 2384, 'lily': 2385, 'condemned': 2386, 'marjoram': 2387, 'hair': 2388, 'fearfully': 2389, 'blushing': 2390, 'despair': 2391, 'third': 2392, 'red': 2393, 'annexed': 2394, 'theft': 2395, 'growth': 2396, 'vengeful': 2397, 'colour': 2398, \"forget'st\": 2399, \"spend'st\": 2400, 'fury': 2401, 'darkening': 2402, 'forgetful': 2403, 'redeem': 2404, 'idly': 2405, 'esteem': 2406, 'rise': 2407, 'resty': 2408, 'wrinkle': 2409, 'graven': 2410, 'satire': 2411, 'spoils': 2412, 'faster': 2413, \"prevent'st\": 2414, 'truant': 2415, 'amends': 2416, 'neglect': 2417, 'dignified': 2418, 'intermixed': 2419, \"for't\": 2420, 'office': 2421, 'strengthened': 2422, 'merchandized': 2423, 'esteeming': 2424, 'publish': 2425, 'wont': 2426, 'philomel': 2427, 'front': 2428, 'stops': 2429, 'pipe': 2430, 'pleasant': 2431, 'mournful': 2432, 'hush': 2433, 'wild': 2434, 'burthens': 2435, 'bough': 2436, 'appears': 2437, 'over-goes': 2438, 'dulling': 2439, 'sinful': 2440, 'striving': 2441, 'mar': 2442, 'verses': 2443, 'gifts': 2444, 'eyed': 2445, 'seems': 2446, 'three': 2447, 'forests': 2448, 'shook': 2449, 'springs': 2450, 'turned': 2451, 'process': 2452, 'perfumes': 2453, 'junes': 2454, 'burned': 2455, 'figure': 2456, 'perceived': 2457, 'unbred': 2458, 'idolatry': 2459, 'idol': 2460, 'alike': 2461, 'songs': 2462, 'wondrous': 2463, 'constancy': 2464, 'confined': 2465, 'expressing': 2466, 'difference': 2467, 'varying': 2468, 'themes': 2469, 'chronicle': 2470, 'wasted': 2471, 'descriptions': 2472, 'wights': 2473, 'beautiful': 2474, 'ladies': 2475, 'knights': 2476, 'blazon': 2477, 'lip': 2478, 'prophecies': 2479, 'prefiguring': 2480, 'looked': 2481, 'divining': 2482, 'prophetic': 2483, 'dreaming': 2484, 'forfeit': 2485, 'eclipse': 2486, 'endured': 2487, 'augurs': 2488, 'presage': 2489, 'incertainties': 2490, 'crown': 2491, 'proclaims': 2492, 'olives': 2493, 'endless': 2494, 'drops': 2495, 'balmy': 2496, 'subscribes': 2497, 'insults': 2498, 'tribes': 2499, 'crests': 2500, 'tombs': 2501, 'figured': 2502, 'register': 2503, 'express': 2504, 'boy': 2505, 'prayers': 2506, 'divine': 2507, 'hallowed': 2508, 'weighs': 2509, 'necessary': 2510, 'aye': 2511, 'page': 2512, 'bred': 2513, 'qualify': 2514, 'easy': 2515, 'ranged': 2516, 'just': 2517, 'exchanged': 2518, 'reigned': 2519, 'frailties': 2520, 'kinds': 2521, 'preposterously': 2522, 'stained': 2523, 'universe': 2524, 'alas': 2525, 'motley': 2526, 'gored': 2527, 'sold': 2528, 'cheap': 2529, 'affections': 2530, 'askance': 2531, 'blenches': 2532, 'essays': 2533, 'proved': 2534, 'grind': 2535, 'newer': 2536, 'proof': 2537, 'try': 2538, 'older': 2539, 'next': 2540, 'guilty': 2541, 'goddess': 2542, 'harmful': 2543, 'provide': 2544, 'breeds': 2545, 'receives': 2546, 'brand': 2547, 'subdued': 2548, \"dyer's\": 2549, 'renewed': 2550, 'patient': 2551, 'drink': 2552, 'potions': 2553, 'eisel': 2554, 'bitter': 2555, 'penance': 2556, 'correct': 2557, 'correction': 2558, 'assure': 2559, 'cure': 2560, 'impression': 2561, 'scandal': 2562, 'stamped': 2563, \"o'er-green\": 2564, 'strive': 2565, 'steeled': 2566, 'changes': 2567, 'profound': 2568, 'abysm': 2569, 'throw': 2570, 'voices': 2571, \"adder's\": 2572, 'critic': 2573, 'flatterer': 2574, 'stopped': 2575, 'dispense': 2576, 'besides': 2577, 'governs': 2578, 'about': 2579, 'function': 2580, 'partly': 2581, 'effectually': 2582, 'delivers': 2583, 'bird': 2584, 'latch': 2585, 'objects': 2586, 'vision': 2587, 'catch': 2588, \"rud'st\": 2589, 'gentlest': 2590, \"deformed'st\": 2591, 'creature': 2592, 'dove': 2593, 'shapes': 2594, 'feature': 2595, 'incapable': 2596, 'maketh': 2597, \"monarch's\": 2598, 'plague': 2599, 'saith': 2600, 'monsters': 2601, 'indigest': 2602, 'cherubins': 2603, 'resemble': 2604, 'creating': 2605, 'beams': 2606, 'assemble': 2607, 'kingly': 2608, 'drinks': 2609, 'gust': 2610, \"'greeing\": 2611, 'palate': 2612, 'cup': 2613, 'poisoned': 2614, 'lesser': 2615, 'begin': 2616, 'knew': 2617, 'reason': 2618, 'afterwards': 2619, 'reckoning': 2620, 'millioned': 2621, 'accidents': 2622, 'creep': 2623, 'vows': 2624, 'decrees': 2625, 'tan': 2626, \"sharp'st\": 2627, 'intents': 2628, 'divert': 2629, \"alt'ring\": 2630, 'fearing': 2631, 'tyranny': 2632, 'certain': 2633, 'incertainty': 2634, 'crowning': 2635, 'marriage': 2636, 'admit': 2637, 'impediments': 2638, 'alters': 2639, 'alteration': 2640, 'bends': 2641, 'remover': 2642, 'ever-fixed': 2643, 'tempests': 2644, 'shaken': 2645, \"wand'ring\": 2646, 'unknown': 2647, 'taken': 2648, 'rosy': 2649, 'lips': 2650, \"sickle's\": 2651, 'compass': 2652, 'weeks': 2653, 'error': 2654, 'accuse': 2655, 'scanted': 2656, 'repay': 2657, 'whereto': 2658, 'frequent': 2659, 'dear-purchased': 2660, 'hoisted': 2661, 'transport': 2662, 'wilfulness': 2663, 'surmise': 2664, 'accumulate': 2665, 'level': 2666, 'shoot': 2667, 'wakened': 2668, 'appeal': 2669, 'eager': 2670, 'urge': 2671, 'prevent': 2672, 'maladies': 2673, 'sicken': 2674, 'shun': 2675, 'sickness': 2676, 'purge': 2677, \"ne'er-cloying\": 2678, 'sauces': 2679, 'welfare': 2680, 'meetness': 2681, 'diseased': 2682, 'needing': 2683, 'policy': 2684, \"t'\": 2685, 'anticipate': 2686, 'ills': 2687, 'medicine': 2688, 'healthful': 2689, 'goodness': 2690, 'cured': 2691, 'lesson': 2692, 'drugs': 2693, 'poison': 2694, 'feil': 2695, 'drunk': 2696, 'siren': 2697, 'limbecks': 2698, 'foul': 2699, 'applying': 2700, 'hopes': 2701, 'committed': 2702, 'spheres': 2703, 'fitted': 2704, 'distraction': 2705, 'madding': 2706, 'fever': 2707, 'built': 2708, 'rebuked': 2709, 'unkind': 2710, 'befriends': 2711, 'transgression': 2712, 'nerves': 2713, 'hammered': 2714, 'unkindness': 2715, \"y'have\": 2716, 'weigh': 2717, 'suffered': 2718, 'deepest': 2719, 'hard': 2720, 'hits': 2721, 'tendered': 2722, 'wounded': 2723, 'fits': 2724, 'becomes': 2725, 'fee': 2726, 'ransoms': 2727, 'reproach': 2728, 'feeling': 2729, 'adulterate': 2730, 'salutation': 2731, 'sportive': 2732, 'frailer': 2733, 'spies': 2734, 'wills': 2735, 'abuses': 2736, 'reckon': 2737, 'bevel': 2738, 'maintain': 2739, 'badness': 2740, 'tables': 2741, 'charactered': 2742, 'lasting': 2743, 'beyond': 2744, 'faculty': 2745, 'subsist': 2746, 'oblivion': 2747, 'missed': 2748, 'retention': 2749, 'tallies': 2750, 'score': 2751, 'bold': 2752, 'receive': 2753, 'import': 2754, 'forgetfulness': 2755, 'pyramids': 2756, 'novel': 2757, 'dressings': 2758, 'dates': 2759, 'admire': 2760, 'foist': 2761, 'rather': 2762, 'heard': 2763, 'registers': 2764, 'defy': 2765, \"wond'ring\": 2766, 'records': 2767, 'continual': 2768, 'gathered': 2769, 'builded': 2770, 'accident': 2771, 'suffers': 2772, 'smiling': 2773, 'pomp': 2774, 'falls': 2775, 'blow': 2776, 'thralled': 2777, 'discontent': 2778, 'inviting': 2779, 'heretic': 2780, 'leases': 2781, 'short-numbered': 2782, 'hugely': 2783, 'politic': 2784, 'drowns': 2785, 'fools': 2786, \"were't\": 2787, 'bore': 2788, 'extern': 2789, 'honouring': 2790, 'laid': 2791, 'bases': 2792, 'ruining': 2793, 'dwellers': 2794, 'paying': 2795, 'rent': 2796, 'compound': 2797, 'forgoing': 2798, 'savour': 2799, 'pitiful': 2800, 'thrivers': 2801, 'gazing': 2802, 'oblation': 2803, 'mixed': 2804, 'seconds': 2805, 'render': 2806, 'suborned': 2807, 'informer': 2808, 'impeached': 2809, 'fickle': 2810, 'waning': 2811, \"show'st\": 2812, 'withering': 2813, 'over': 2814, 'wrack': 2815, 'goest': 2816, 'onwards': 2817, 'minion': 2818, 'detain': 2819, 'delayed': 2820, 'answered': 2821, 'quietus': 2822, 'counted': 2823, 'successive': 2824, 'slandered': 2825, 'fairing': 2826, 'borrowed': 2827, 'bower': 2828, 'profaned': 2829, 'raven': 2830, 'suited': 2831, 'mourners': 2832, 'slandering': 2833, 'becoming': 2834, \"play'st\": 2835, 'wood': 2836, 'fingers': 2837, 'gently': 2838, \"sway'st\": 2839, 'wiry': 2840, 'jacks': 2841, 'kiss': 2842, 'harvest': 2843, 'reap': 2844, \"wood's\": 2845, 'boldness': 2846, 'tickled': 2847, 'situation': 2848, 'dancing': 2849, 'chips': 2850, 'walk': 2851, 'gait': 2852, 'lust': 2853, 'perjured': 2854, 'savage': 2855, 'extreme': 2856, 'enjoyed': 2857, 'sooner': 2858, 'hunted': 2859, 'hated': 2860, 'swallowed': 2861, 'bait': 2862, 'taker': 2863, 'mad': 2864, 'pursuit': 2865, 'bliss': 2866, 'proposed': 2867, 'coral': 2868, 'snow': 2869, 'breasts': 2870, 'dun': 2871, 'hairs': 2872, 'wires': 2873, 'damasked': 2874, 'reeks': 2875, 'sound': 2876, 'treads': 2877, 'belied': 2878, 'tyrannous': 2879, 'proudly': 2880, 'doting': 2881, 'err': 2882, 'swear': 2883, 'groans': 2884, 'neck': 2885, \"judgment's\": 2886, 'proceeds': 2887, 'pitying': 2888, 'disdain': 2889, 'ruth': 2890, 'grey': 2891, 'east': 2892, 'ushers': 2893, 'sober': 2894, 'mourning': 2895, 'become': 2896, 'beseem': 2897, 'suit': 2898, 'herself': 2899, 'beshrew': 2900, 'slavery': 2901, \"sweet'st\": 2902, 'harder': 2903, 'engrossed': 2904, 'forsaken': 2905, 'three-fold': 2906, 'crossed': 2907, 'prison': 2908, 'ward': 2909, \"whoe'er\": 2910, 'rigour': 2911, 'gaol': 2912, 'perforce': 2913, 'confessed': 2914, 'mortgaged': 2915, 'restore': 2916, 'covetous': 2917, 'learned': 2918, 'surety-like': 2919, 'bond': 2920, 'fist': 2921, 'bind': 2922, 'statute': 2923, \"put'st\": 2924, 'sue': 2925, 'came': 2926, 'debtor': 2927, 'whole': 2928, 'whoever': 2929, 'boot': 2930, 'over-plus': 2931, 'spacious': 2932, 'acceptance': 2933, 'addeth': 2934, 'beseechers': 2935, 'admitted': 2936, 'love-suit': 2937, 'fulfil': 2938, 'receipt': 2939, 'reckoned': 2940, 'untold': 2941, 'corrupt': 2942, 'over-partial': 2943, 'anchored': 2944, 'bay': 2945, 'forged': 2946, 'hooks': 2947, 'tied': 2948, 'several': 2949, 'plot': 2950, 'erred': 2951, 'transferred': 2952, 'swears': 2953, 'untutored': 2954, 'unlearned': 2955, 'subtleties': 2956, 'vainly': 2957, 'simply': 2958, 'credit': 2959, 'false-speaking': 2960, 'sides': 2961, 'suppressed': 2962, 'unjust': 2963, 'habit': 2964, 'flattered': 2965, 'justify': 2966, 'slay': 2967, \"need'st\": 2968, \"o'erpressed\": 2969, 'dart': 2970, 'outright': 2971, 'rid': 2972, 'press': 2973, 'manner': 2974, 'pity-wanting': 2975, 'testy': 2976, 'news': 2977, 'physicians': 2978, 'madness': 2979, 'ill-wresting': 2980, 'slanderers': 2981, 'ears': 2982, 'believed': 2983, 'despise': 2984, 'pleased': 2985, 'dote': 2986, 'cars': 2987, 'tune': 2988, 'delighted': 2989, 'prone': 2990, 'invited': 2991, 'senses': 2992, 'dissuade': 2993, 'foolish': 2994, 'unswayed': 2995, 'likeness': 2996, 'awards': 2997, 'merits': 2998, 'reproving': 2999, 'scarlet': 3000, 'ornaments': 3001, 'sealed': 3002, 'robbed': 3003, 'beds': 3004, 'revenues': 3005, 'rents': 3006, 'woo': 3007, 'importune': 3008, 'deserve': 3009, 'pitied': 3010, 'self-example': 3011, 'denied': 3012, 'huswife': 3013, 'runs': 3014, 'feathered': 3015, 'broke': 3016, 'dispatch': 3017, 'neglected': 3018, 'chase': 3019, 'busy': 3020, 'follow': 3021, 'prizing': 3022, \"infant's\": 3023, \"run'st\": 3024, 'afar': 3025, 'pray': 3026, 'loud': 3027, 'crying': 3028, 'suggest': 3029, 'angel': 3030, 'worser': 3031, 'coloured': 3032, 'female': 3033, 'tempteth': 3034, 'saint': 3035, 'devil': 3036, 'wooing': 3037, 'purity': 3038, 'fiend': 3039, 'directly': 3040, 'doubt': 3041, 'breathed': 3042, 'languished': 3043, 'woeful': 3044, 'mercy': 3045, 'chiding': 3046, 'followed': 3047, 'flown': 3048, 'threw': 3049, 'saved': 3050, 'saying': 3051, 'centre': 3052, 'rebel': 3053, 'powers': 3054, 'array': 3055, 'dearth': 3056, 'costly': 3057, 'inheritors': 3058, 'excess': 3059, 'charge': 3060, \"servant's\": 3061, 'aggravate': 3062, 'buy': 3063, 'terms': 3064, 'selling': 3065, 'dross': 3066, 'fed': 3067, 'feed': 3068, \"there's\": 3069, 'dying': 3070, 'longing': 3071, 'nurseth': 3072, 'disease': 3073, 'preserve': 3074, 'uncertain': 3075, 'sickly': 3076, 'physician': 3077, 'angry': 3078, 'prescriptions': 3079, 'desperate': 3080, 'except': 3081, 'frantic-mad': 3082, 'unrest': 3083, 'discourse': 3084, 'random': 3085, 'sworn': 3086, 'correspondence': 3087, 'censures': 3088, 'falsely': 3089, 'aright': 3090, 'denote': 3091, 'vexed': 3092, 'watching': 3093, 'marvel': 3094, 'mistake': 3095, 'sees': 3096, 'clears': 3097, \"keep'st\": 3098, 'well-seeing': 3099, 'partake': 3100, 'all-tyrant': 3101, 'hateth': 3102, \"frown'st\": 3103, 'fawn': 3104, \"lour'st\": 3105, 'revenge': 3106, 'service': 3107, 'worship': 3108, 'commanded': 3109, 'insufficiency': 3110, 'brightness': 3111, 'refuse': 3112, 'warrantise': 3113, 'exceeds': 3114, 'abhor': 3115, 'unworthiness': 3116, 'raised': 3117, 'conscience': 3118, 'cheater': 3119, 'betraying': 3120, 'nobler': 3121, 'treason': 3122, 'stays': 3123, 'rising': 3124, 'drudge': 3125, 'swearing': 3126, 'act': 3127, 'bed-vow': 3128, 'torn': 3129, 'vowing': 3130, 'oaths': 3131, 'breach': 3132, 'twenty': 3133, 'misuse': 3134, 'honest': 3135, 'enlighten': 3136, 'blindness': 3137, 'cupid': 3138, 'asleep': 3139, 'maid': 3140, \"dian's\": 3141, 'love-kindling': 3142, 'quickly': 3143, 'steep': 3144, 'valley-fountain': 3145, 'endure': 3146, 'seeting': 3147, 'bath': 3148, 'new-fired': 3149, 'trial': 3150, 'touch': 3151, 'withal': 3152, 'thither': 3153, 'hied': 3154, 'distempered': 3155, 'love-god': 3156, 'lying': 3157, 'heart-inflaming': 3158, 'nymphs': 3159, 'vowed': 3160, 'chaste': 3161, 'tripping': 3162, 'votary': 3163, 'legions': 3164, 'warmed': 3165, 'sleeping': 3166, 'virgin': 3167, 'disarmed': 3168, 'quenched': 3169, 'cool': 3170, 'discased': 3171, 'thrall': 3172, 'heats': 3173, 'cools': 3174}\n"
     ]
    }
   ],
   "source": [
    "print(obs_map)"
   ]
  },
  {
   "cell_type": "code",
   "execution_count": 11,
   "metadata": {},
   "outputs": [
    {
     "name": "stdout",
     "output_type": "stream",
     "text": [
      "1\n",
      "2\n",
      "3\n",
      "4\n",
      "5\n",
      "6\n",
      "7\n",
      "8\n",
      "9\n",
      "10\n",
      "Iteration: 10\n",
      "11\n",
      "12\n",
      "13\n",
      "14\n",
      "15\n",
      "16\n",
      "17\n",
      "18\n",
      "19\n",
      "20\n",
      "Iteration: 20\n",
      "21\n",
      "22\n",
      "23\n",
      "24\n",
      "25\n",
      "26\n",
      "27\n",
      "28\n",
      "29\n",
      "30\n",
      "Iteration: 30\n",
      "31\n",
      "32\n",
      "33\n",
      "34\n",
      "35\n",
      "36\n",
      "37\n",
      "38\n",
      "39\n",
      "40\n",
      "Iteration: 40\n",
      "41\n",
      "42\n",
      "43\n",
      "44\n",
      "45\n",
      "46\n",
      "47\n",
      "48\n",
      "49\n",
      "50\n",
      "Iteration: 50\n",
      "51\n",
      "52\n",
      "53\n",
      "54\n",
      "55\n",
      "56\n",
      "57\n",
      "58\n",
      "59\n",
      "60\n",
      "Iteration: 60\n",
      "61\n",
      "62\n",
      "63\n",
      "64\n",
      "65\n",
      "66\n",
      "67\n",
      "68\n",
      "69\n",
      "70\n",
      "Iteration: 70\n",
      "71\n",
      "72\n",
      "73\n",
      "74\n",
      "75\n",
      "76\n",
      "77\n",
      "78\n",
      "79\n",
      "80\n",
      "Iteration: 80\n",
      "81\n",
      "82\n",
      "83\n",
      "84\n",
      "85\n",
      "86\n",
      "87\n",
      "88\n",
      "89\n",
      "90\n",
      "Iteration: 90\n",
      "91\n",
      "92\n",
      "93\n",
      "94\n",
      "95\n",
      "96\n",
      "97\n",
      "98\n",
      "99\n",
      "100\n",
      "Iteration: 100\n"
     ]
    }
   ],
   "source": [
    "hmm = unsupervised_HMM(obs, 2, 100)"
   ]
  },
  {
   "cell_type": "code",
   "execution_count": 23,
   "metadata": {},
   "outputs": [],
   "source": [
    "def obs_map_reverser(obs_map):\n",
    "    obs_map_r = {}\n",
    "\n",
    "    for key in obs_map:\n",
    "        obs_map_r[obs_map[key]] = key\n",
    "\n",
    "    return obs_map_r\n",
    "\n",
    "def sample_sentence(hmm, obs_map, n_syl=10):\n",
    "    # Get reverse map.\n",
    "    obs_map_r = obs_map_reverser(obs_map)\n",
    "\n",
    "    # Sample and convert sentence.\n",
    "    emission, states = hmm.generate_emission(n_syl, obs_map_r, syl_dict)\n",
    "    sentence = [obs_map_r[i] for i in emission]\n",
    "    sentence[0] = sentence[0].capitalize()\n",
    "    return ' '.join(sentence)\n",
    "\n",
    "def generate_poem(hmm, obs_map):\n",
    "    for i in range(12):\n",
    "        print(sample_sentence(hmm, obs_map))\n",
    "    for i in range(2):\n",
    "        print('  ' + sample_sentence(hmm, obs_map))"
   ]
  },
  {
   "cell_type": "code",
   "execution_count": 24,
   "metadata": {},
   "outputs": [
    {
     "name": "stdout",
     "output_type": "stream",
     "text": [
      "Prime from can themselves quite how thy thou heard\n",
      "Tattered I rich mayst this died and when looks\n",
      "Songs upon his cut time and in on if\n",
      "Not pointing thing pattern for and stars good\n",
      "Thee another's a why just in and eyes\n",
      "And in let authority cruel all\n",
      "Those father which me canker new change more\n",
      "Thou show quick desire one all my and his\n",
      "The doubt incapable sleep move beauty\n",
      "By most right sweet self of admired and\n",
      "Add against hearts one thine thee the ten is\n",
      "That this chief hand no sweet as is controlling\n",
      "  Affable if sweet not precious all thy\n",
      "  These thanks maiden dying as by such and\n"
     ]
    }
   ],
   "source": [
    "generate_poem(hmm, obs_map)"
   ]
  },
  {
   "cell_type": "code",
   "execution_count": null,
   "metadata": {},
   "outputs": [],
   "source": []
  }
 ],
 "metadata": {
  "kernelspec": {
   "display_name": "Python 3",
   "language": "python",
   "name": "python3"
  },
  "language_info": {
   "codemirror_mode": {
    "name": "ipython",
    "version": 3
   },
   "file_extension": ".py",
   "mimetype": "text/x-python",
   "name": "python",
   "nbconvert_exporter": "python",
   "pygments_lexer": "ipython3",
   "version": "3.7.1"
  }
 },
 "nbformat": 4,
 "nbformat_minor": 2
}
